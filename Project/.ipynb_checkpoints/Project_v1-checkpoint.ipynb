{
 "cells": [
  {
   "cell_type": "code",
   "execution_count": 139,
   "metadata": {
    "collapsed": false
   },
   "outputs": [],
   "source": [
    "#Import all necessary libraries\n",
    "import numpy as np\n",
    "import pandas as pd\n",
    "import matplotlib.pyplot as plt\n",
    "from sklearn.cluster import KMeans\n",
    "from sklearn.preprocessing import StandardScaler\n",
    "\n",
    "%matplotlib inline"
   ]
  },
  {
   "cell_type": "code",
   "execution_count": 140,
   "metadata": {
    "collapsed": false
   },
   "outputs": [
    {
     "data": {
      "text/html": [
       "<div>\n",
       "<table border=\"1\" class=\"dataframe\">\n",
       "  <thead>\n",
       "    <tr style=\"text-align: right;\">\n",
       "      <th></th>\n",
       "      <th>sfdc_id</th>\n",
       "      <th>community_name</th>\n",
       "      <th>enabled</th>\n",
       "      <th>num_lang</th>\n",
       "      <th>num_feat</th>\n",
       "      <th>case_count</th>\n",
       "      <th>platinum_support</th>\n",
       "      <th>gold_support</th>\n",
       "      <th>silver_support</th>\n",
       "      <th>account_total_arr</th>\n",
       "      <th>private_community</th>\n",
       "    </tr>\n",
       "  </thead>\n",
       "  <tbody>\n",
       "    <tr>\n",
       "      <th>0</th>\n",
       "      <td>a0C61000002R2ki</td>\n",
       "      <td>Vodafone Ireland LSW</td>\n",
       "      <td>1</td>\n",
       "      <td>1</td>\n",
       "      <td>0</td>\n",
       "      <td>2</td>\n",
       "      <td>1</td>\n",
       "      <td>0</td>\n",
       "      <td>0</td>\n",
       "      <td>1663816</td>\n",
       "      <td>0</td>\n",
       "    </tr>\n",
       "  </tbody>\n",
       "</table>\n",
       "</div>"
      ],
      "text/plain": [
       "           sfdc_id        community_name  enabled  num_lang  num_feat  \\\n",
       "0  a0C61000002R2ki  Vodafone Ireland LSW        1         1         0   \n",
       "\n",
       "   case_count  platinum_support  gold_support  silver_support  \\\n",
       "0           2                 1             0               0   \n",
       "\n",
       "   account_total_arr  private_community  \n",
       "0            1663816                  0  "
      ]
     },
     "execution_count": 140,
     "metadata": {},
     "output_type": "execute_result"
    }
   ],
   "source": [
    "#Load the dataset and store in the variable 'df'\n",
    "df = pd.read_csv('/Users/colby.schrauth/Desktop/DataScience/query_result.csv')\n",
    "df.head(1)"
   ]
  },
  {
   "cell_type": "code",
   "execution_count": 141,
   "metadata": {
    "collapsed": false
   },
   "outputs": [
    {
     "name": "stdout",
     "output_type": "stream",
     "text": [
      "(1021, 11)\n"
     ]
    }
   ],
   "source": [
    "#Print the shape (rows, columns) of 'df'\n",
    "print df.shape"
   ]
  },
  {
   "cell_type": "code",
   "execution_count": 142,
   "metadata": {
    "collapsed": true
   },
   "outputs": [],
   "source": [
    "#Import KMeans\n",
    "from sklearn.cluster import KMeans"
   ]
  },
  {
   "cell_type": "code",
   "execution_count": 143,
   "metadata": {
    "collapsed": false
   },
   "outputs": [],
   "source": [
    "#Standardize the dataset\n",
    "scaler = StandardScaler()\n",
    "df_norm = scaler.fit_transform(df.iloc[:,3:])"
   ]
  },
  {
   "cell_type": "code",
   "execution_count": 150,
   "metadata": {
    "collapsed": false
   },
   "outputs": [],
   "source": [
    "#Instantiate KMeans and cluster the dataset around 7 centroids\n",
    "kmeans = KMeans(n_clusters = 7, random_state = 1).fit(df_norm)"
   ]
  },
  {
   "cell_type": "code",
   "execution_count": 151,
   "metadata": {
    "collapsed": true
   },
   "outputs": [],
   "source": [
    "#Store labels in the variable 'labels'\n",
    "labels = kmeans.labels_"
   ]
  },
  {
   "cell_type": "code",
   "execution_count": 152,
   "metadata": {
    "collapsed": false
   },
   "outputs": [
    {
     "name": "stdout",
     "output_type": "stream",
     "text": [
      "enabled    0    1\n",
      "row_0            \n",
      "0         72  234\n",
      "1          4   31\n",
      "2        173   18\n",
      "3          0    4\n",
      "4        130  320\n",
      "5          0    3\n",
      "6         14   18\n"
     ]
    }
   ],
   "source": [
    "#Display the distribution of accounts by centroid, and whether or not they're enabled\n",
    "print (pd.crosstab(labels, df[\"enabled\"]))"
   ]
  },
  {
   "cell_type": "code",
   "execution_count": 153,
   "metadata": {
    "collapsed": true
   },
   "outputs": [],
   "source": [
    "#Add labels as a column to the dataframe\n",
    "df['labels'] = labels"
   ]
  },
  {
   "cell_type": "code",
   "execution_count": 155,
   "metadata": {
    "collapsed": false
   },
   "outputs": [],
   "source": [
    "#Export the updated dataframe to a csv\n",
    "df.to_csv('test.csv')"
   ]
  },
  {
   "cell_type": "code",
   "execution_count": null,
   "metadata": {
    "collapsed": true
   },
   "outputs": [],
   "source": []
  },
  {
   "cell_type": "code",
   "execution_count": null,
   "metadata": {
    "collapsed": true
   },
   "outputs": [],
   "source": []
  },
  {
   "cell_type": "code",
   "execution_count": null,
   "metadata": {
    "collapsed": false
   },
   "outputs": [],
   "source": [
    "data = df[list(df.columns[3:5])]"
   ]
  },
  {
   "cell_type": "code",
   "execution_count": null,
   "metadata": {
    "collapsed": false
   },
   "outputs": [],
   "source": [
    "scaler = StandardScaler()\n",
    "data_norm = scaler.fit_transform(data)"
   ]
  },
  {
   "cell_type": "code",
   "execution_count": null,
   "metadata": {
    "collapsed": false
   },
   "outputs": [],
   "source": [
    "km = KMeans(n_clusters=5)\n",
    "km.fit(data_norm)"
   ]
  },
  {
   "cell_type": "code",
   "execution_count": null,
   "metadata": {
    "collapsed": false
   },
   "outputs": [],
   "source": [
    "centroids = km.cluster_centers_\n",
    "centroids"
   ]
  },
  {
   "cell_type": "code",
   "execution_count": null,
   "metadata": {
    "collapsed": false
   },
   "outputs": [],
   "source": [
    "labels = km.labels_\n",
    "labels"
   ]
  },
  {
   "cell_type": "code",
   "execution_count": null,
   "metadata": {
    "collapsed": false
   },
   "outputs": [],
   "source": [
    "# data = data.as_matrix()"
   ]
  },
  {
   "cell_type": "code",
   "execution_count": null,
   "metadata": {
    "collapsed": false
   },
   "outputs": [],
   "source": [
    "k = 5\n",
    "\n",
    "for i in range(k):\n",
    "    # select only data observations with cluster label == i\n",
    "    ds = data_norm[np.where(labels==i)]\n",
    "    # plot the data observations\n",
    "    plt.plot(ds[:,0],ds[:,1],'o')\n",
    "    # plot the centroids\n",
    "    lines = plt.plot(centroids[i,0],centroids[i,1],'kx')\n",
    "    # make the centroid x's bigger\n",
    "    plt.setp(lines,ms=15.0)\n",
    "    plt.setp(lines,mew=2.0)\n",
    "plt.show()"
   ]
  },
  {
   "cell_type": "code",
   "execution_count": null,
   "metadata": {
    "collapsed": false
   },
   "outputs": [],
   "source": [
    "from sklearn import cluster\n",
    "centroids,labels,inertia = cluster.k_means(numpyMatrix,n_clusters=k)"
   ]
  },
  {
   "cell_type": "code",
   "execution_count": null,
   "metadata": {
    "collapsed": false
   },
   "outputs": [],
   "source": [
    "print labels"
   ]
  },
  {
   "cell_type": "code",
   "execution_count": null,
   "metadata": {
    "collapsed": false
   },
   "outputs": [],
   "source": [
    "np.savetxt('colby_test.txt', labels) "
   ]
  },
  {
   "cell_type": "code",
   "execution_count": null,
   "metadata": {
    "collapsed": true
   },
   "outputs": [],
   "source": [
    "kdd_data = pd.read_csv('http://gadatascience.com/datasets/network_attacks/kddcup.data_10_percent', index_col=False)"
   ]
  },
  {
   "cell_type": "code",
   "execution_count": null,
   "metadata": {
    "collapsed": false
   },
   "outputs": [],
   "source": [
    "kdd_data.head(5)"
   ]
  },
  {
   "cell_type": "code",
   "execution_count": null,
   "metadata": {
    "collapsed": false
   },
   "outputs": [],
   "source": [
    "kdd_data.protocol_type.value_counts()"
   ]
  },
  {
   "cell_type": "code",
   "execution_count": null,
   "metadata": {
    "collapsed": false
   },
   "outputs": [],
   "source": [
    "from sklearn.feature_extraction import DictVectorizer\n",
    "\n",
    "# Turn categorical features into 1-hot encoded features\n",
    "categorical_features = kdd_data[['protocol_type', 'service', 'flag']]\n",
    "dv = DictVectorizer()\n",
    "cat_matrix = dv.fit_transform(categorical_features.T.to_dict().values())\n",
    "\n",
    "# Collect the other numerical features\n",
    "from scipy.sparse import hstack\n",
    "other_features = kdd_data[['src_bytes', 'dst_bytes', 'num_failed_logins', 'logged_in', 'num_compromised', 'root_shell', 'su_attempted', 'num_root', 'num_file_creations', 'num_shells', 'num_access_files', 'num_outbound_cmds']]\n",
    "data_matrix = hstack([cat_matrix, other_features])\n",
    "data_matrix"
   ]
  },
  {
   "cell_type": "code",
   "execution_count": null,
   "metadata": {
    "collapsed": false
   },
   "outputs": [],
   "source": [
    "from sklearn.preprocessing import scale\n",
    "data_matrix = scale(data_matrix.todense())"
   ]
  },
  {
   "cell_type": "code",
   "execution_count": null,
   "metadata": {
    "collapsed": false
   },
   "outputs": [],
   "source": [
    "from sklearn.cluster import KMeans\n",
    "\n",
    "clustering_model = KMeans(n_clusters = 25)\n",
    "clustering_model.fit(data_matrix)\n",
    "\n",
    "clusters = clustering_model.predict(data_matrix)\n",
    "\n",
    "clusters"
   ]
  },
  {
   "cell_type": "code",
   "execution_count": null,
   "metadata": {
    "collapsed": true
   },
   "outputs": [],
   "source": [
    "results = pd.DataFrame({ 'cluster' : clusters, 'class' : kdd_data['class']})\n",
    "cluster_counts = results.groupby('cluster')['class'].value_counts()\n",
    "for i in xrange(len(cluster_counts)):\n",
    "    print(\"Cluster \" ,i)\n",
    "    print(cluster_counts[i])\n",
    "    print()"
   ]
  },
  {
   "cell_type": "markdown",
   "metadata": {},
   "source": [
    "## Change of pace ##"
   ]
  },
  {
   "cell_type": "code",
   "execution_count": null,
   "metadata": {
    "collapsed": true
   },
   "outputs": [],
   "source": [
    "import pandas as pd"
   ]
  },
  {
   "cell_type": "code",
   "execution_count": null,
   "metadata": {
    "collapsed": false
   },
   "outputs": [],
   "source": [
    "# READ IN DATASET\n",
    "votes = pd.read_csv('/Users/colby.schrauth/Desktop/DataScience/114_congress.csv')\n",
    "votes.head(3)"
   ]
  },
  {
   "cell_type": "code",
   "execution_count": null,
   "metadata": {
    "collapsed": false
   },
   "outputs": [],
   "source": [
    "# PRINT THE DATASET SHAPE\n",
    "print votes.shape"
   ]
  },
  {
   "cell_type": "code",
   "execution_count": null,
   "metadata": {
    "collapsed": false
   },
   "outputs": [],
   "source": [
    "# PRINT THE UNIQUE VALUES AND THEIR ASSOCIATED FREQUENCY\n",
    "print (pd.value_counts(votes.iloc[:,3:].values.ravel()))"
   ]
  },
  {
   "cell_type": "code",
   "execution_count": null,
   "metadata": {
    "collapsed": true
   },
   "outputs": [],
   "source": [
    "# IMPORT KMEANS\n",
    "from sklearn.cluster import KMeans"
   ]
  },
  {
   "cell_type": "code",
   "execution_count": null,
   "metadata": {
    "collapsed": true
   },
   "outputs": [],
   "source": [
    "# CREATE A KMEANS MODEL W/ 2 CENTROIDS -- RANDOM_STATE HELPS ENSURE THE ALGORITHM RETURNS THE SAME RESULTS EACH TIME\n",
    "kmeans_model = KMeans(n_clusters = 2, random_state = 1).fit(votes.iloc[:,3:])"
   ]
  },
  {
   "cell_type": "code",
   "execution_count": null,
   "metadata": {
    "collapsed": false
   },
   "outputs": [],
   "source": [
    "# THESE ARE OUR FITTED LABELS FOR CLUSTERS -- THE FIRST CLUSTER HAS LABEL 0, AND THE SECOND HAS LABEL 1\n",
    "labels = kmeans_model.labels_"
   ]
  },
  {
   "cell_type": "code",
   "execution_count": null,
   "metadata": {
    "collapsed": false
   },
   "outputs": [],
   "source": [
    "# SEPARATE EVERYONE INTO PARTIES BASED ON VOTING HISTORY\n",
    "print (pd.crosstab(labels, votes[\"party\"]))"
   ]
  },
  {
   "cell_type": "markdown",
   "metadata": {
    "collapsed": true
   },
   "source": [
    "**APPENDIX**"
   ]
  },
  {
   "cell_type": "code",
   "execution_count": null,
   "metadata": {
    "collapsed": true
   },
   "outputs": [],
   "source": [
    "#Reshape for clustering with one feature input\n",
    "df_norm = np.reshape(df_norm, (len(df), 1))"
   ]
  }
 ],
 "metadata": {
  "kernelspec": {
   "display_name": "Python 2",
   "language": "python",
   "name": "python2"
  },
  "language_info": {
   "codemirror_mode": {
    "name": "ipython",
    "version": 2
   },
   "file_extension": ".py",
   "mimetype": "text/x-python",
   "name": "python",
   "nbconvert_exporter": "python",
   "pygments_lexer": "ipython2",
   "version": "2.7.11"
  }
 },
 "nbformat": 4,
 "nbformat_minor": 0
}
