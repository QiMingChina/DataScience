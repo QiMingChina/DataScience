{
 "cells": [
  {
   "cell_type": "code",
   "execution_count": 1,
   "metadata": {
    "collapsed": false
   },
   "outputs": [],
   "source": [
    "#Import all necessary libraries\n",
    "import numpy as np\n",
    "import pandas as pd\n",
    "import matplotlib.pyplot as plt\n",
    "from sklearn.cluster import KMeans\n",
    "from sklearn.preprocessing import StandardScaler\n",
    "\n",
    "%matplotlib inline"
   ]
  },
  {
   "cell_type": "code",
   "execution_count": 2,
   "metadata": {
    "collapsed": false
   },
   "outputs": [],
   "source": [
    "#Load the dataset and store in the variable 'df'\n",
    "df = pd.read_csv('/Users/Colby/Desktop/DataScience/query_result.csv')\n",
    "#df.head(1)"
   ]
  },
  {
   "cell_type": "code",
   "execution_count": 3,
   "metadata": {
    "collapsed": false
   },
   "outputs": [],
   "source": [
    "#Print the shape (rows, columns) of 'df'\n",
    "#print df.shape"
   ]
  },
  {
   "cell_type": "code",
   "execution_count": 4,
   "metadata": {
    "collapsed": true
   },
   "outputs": [],
   "source": [
    "#Import KMeans\n",
    "from sklearn.cluster import KMeans"
   ]
  },
  {
   "cell_type": "code",
   "execution_count": 5,
   "metadata": {
    "collapsed": false
   },
   "outputs": [],
   "source": [
    "#Standardize the dataset\n",
    "scaler = StandardScaler()\n",
    "df_norm = scaler.fit_transform(df.iloc[:,3:])"
   ]
  },
  {
   "cell_type": "code",
   "execution_count": 6,
   "metadata": {
    "collapsed": false
   },
   "outputs": [],
   "source": [
    "#Instantiate KMeans and cluster the dataset around 7 centroids\n",
    "cluster_count = 6\n",
    "kmeans = KMeans(n_clusters = cluster_count, random_state = 1).fit(df_norm)"
   ]
  },
  {
   "cell_type": "code",
   "execution_count": 7,
   "metadata": {
    "collapsed": true
   },
   "outputs": [],
   "source": [
    "#Store cluster center locations in the variable 'centroids'\n",
    "centroids = kmeans.cluster_centers_"
   ]
  },
  {
   "cell_type": "code",
   "execution_count": 8,
   "metadata": {
    "collapsed": true
   },
   "outputs": [],
   "source": [
    "#Store labels in the variable 'labels'\n",
    "labels = kmeans.labels_"
   ]
  },
  {
   "cell_type": "code",
   "execution_count": 9,
   "metadata": {
    "collapsed": false,
    "scrolled": true
   },
   "outputs": [
    {
     "name": "stdout",
     "output_type": "stream",
     "text": [
      "enabled    0    1\n",
      "row_0            \n",
      "0        131  328\n",
      "1         75  243\n",
      "2          0    4\n",
      "3        171   16\n",
      "4         14   18\n",
      "5          2   19\n"
     ]
    }
   ],
   "source": [
    "#Display the distribution of accounts by centroid, and whether or not they're enabled\n",
    "print (pd.crosstab(labels, df[\"enabled\"]))"
   ]
  },
  {
   "cell_type": "code",
   "execution_count": 47,
   "metadata": {
    "collapsed": true
   },
   "outputs": [],
   "source": [
    "#Add labels as a column to the dataframe\n",
    "df['labels'] = labels"
   ]
  },
  {
   "cell_type": "code",
   "execution_count": 48,
   "metadata": {
    "collapsed": false
   },
   "outputs": [],
   "source": [
    "#Create column names for the KMeans summary dataframe\n",
    "summary_columns = ['cluster', 'cluster_total', 'cluster_%', 'enabled_#', 'disabled_#', 'enabled_%', 'disabled_%']\n",
    "#headers = list.pop(0)"
   ]
  },
  {
   "cell_type": "code",
   "execution_count": 49,
   "metadata": {
    "collapsed": true
   },
   "outputs": [],
   "source": [
    "#Create an empty list to store summary values\n",
    "summary_values = []"
   ]
  },
  {
   "cell_type": "code",
   "execution_count": 50,
   "metadata": {
    "collapsed": true
   },
   "outputs": [],
   "source": [
    "#Generate values for creating a tabular view of the KMeans summary\n",
    "for i in range(cluster_count):\n",
    "    total_in_cluster = float(len(df[df['labels'] == i]))\n",
    "    enabled_count = len(df[(df['labels']==i) & (df['enabled']==1)])\n",
    "    disabled_count = total_in_cluster - enabled_count\n",
    "    d = [i, total_in_cluster, \"%.4f\" %(total_in_cluster / len(df)), enabled_count, disabled_count,\n",
    "         \"%.4f\" %(enabled_count/total_in_cluster),\n",
    "         \"%.4f\" %(disabled_count/total_in_cluster)]\n",
    "    summary_values.append(d)"
   ]
  },
  {
   "cell_type": "code",
   "execution_count": 51,
   "metadata": {
    "collapsed": false
   },
   "outputs": [
    {
     "data": {
      "text/html": [
       "<div>\n",
       "<table border=\"1\" class=\"dataframe\">\n",
       "  <thead>\n",
       "    <tr style=\"text-align: right;\">\n",
       "      <th></th>\n",
       "      <th>cluster</th>\n",
       "      <th>cluster_total</th>\n",
       "      <th>cluster_%</th>\n",
       "      <th>enabled_#</th>\n",
       "      <th>disabled_#</th>\n",
       "      <th>enabled_%</th>\n",
       "      <th>disabled_%</th>\n",
       "    </tr>\n",
       "  </thead>\n",
       "  <tbody>\n",
       "    <tr>\n",
       "      <th>0</th>\n",
       "      <td>0</td>\n",
       "      <td>459</td>\n",
       "      <td>0.4496</td>\n",
       "      <td>328</td>\n",
       "      <td>131</td>\n",
       "      <td>0.7146</td>\n",
       "      <td>0.2854</td>\n",
       "    </tr>\n",
       "    <tr>\n",
       "      <th>1</th>\n",
       "      <td>1</td>\n",
       "      <td>318</td>\n",
       "      <td>0.3115</td>\n",
       "      <td>243</td>\n",
       "      <td>75</td>\n",
       "      <td>0.7642</td>\n",
       "      <td>0.2358</td>\n",
       "    </tr>\n",
       "    <tr>\n",
       "      <th>2</th>\n",
       "      <td>2</td>\n",
       "      <td>4</td>\n",
       "      <td>0.0039</td>\n",
       "      <td>4</td>\n",
       "      <td>0</td>\n",
       "      <td>1.0000</td>\n",
       "      <td>0.0000</td>\n",
       "    </tr>\n",
       "    <tr>\n",
       "      <th>3</th>\n",
       "      <td>3</td>\n",
       "      <td>187</td>\n",
       "      <td>0.1832</td>\n",
       "      <td>16</td>\n",
       "      <td>171</td>\n",
       "      <td>0.0856</td>\n",
       "      <td>0.9144</td>\n",
       "    </tr>\n",
       "    <tr>\n",
       "      <th>4</th>\n",
       "      <td>4</td>\n",
       "      <td>32</td>\n",
       "      <td>0.0313</td>\n",
       "      <td>18</td>\n",
       "      <td>14</td>\n",
       "      <td>0.5625</td>\n",
       "      <td>0.4375</td>\n",
       "    </tr>\n",
       "    <tr>\n",
       "      <th>5</th>\n",
       "      <td>5</td>\n",
       "      <td>21</td>\n",
       "      <td>0.0206</td>\n",
       "      <td>19</td>\n",
       "      <td>2</td>\n",
       "      <td>0.9048</td>\n",
       "      <td>0.0952</td>\n",
       "    </tr>\n",
       "  </tbody>\n",
       "</table>\n",
       "</div>"
      ],
      "text/plain": [
       "   cluster  cluster_total cluster_%  enabled_#  disabled_# enabled_%  \\\n",
       "0        0            459    0.4496        328         131    0.7146   \n",
       "1        1            318    0.3115        243          75    0.7642   \n",
       "2        2              4    0.0039          4           0    1.0000   \n",
       "3        3            187    0.1832         16         171    0.0856   \n",
       "4        4             32    0.0313         18          14    0.5625   \n",
       "5        5             21    0.0206         19           2    0.9048   \n",
       "\n",
       "  disabled_%  \n",
       "0     0.2854  \n",
       "1     0.2358  \n",
       "2     0.0000  \n",
       "3     0.9144  \n",
       "4     0.4375  \n",
       "5     0.0952  "
      ]
     },
     "execution_count": 51,
     "metadata": {},
     "output_type": "execute_result"
    }
   ],
   "source": [
    "#Push summary values to their associated column names and create a dataframe\n",
    "summary_df = pd.DataFrame(summary_values, columns=summary_columns)\n",
    "summary_df"
   ]
  },
  {
   "cell_type": "code",
   "execution_count": 52,
   "metadata": {
    "collapsed": false
   },
   "outputs": [
    {
     "data": {
      "image/png": "[encoded data removed]",
      "text/plain": [
       "<matplotlib.figure.Figure at 0x108ca9fd0>"
      ]
     },
     "metadata": {},
     "output_type": "display_data"
    }
   ],
   "source": [
    "#Visualize the KMeans clustering alogrithm\n",
    "for i in range(cluster_count):\n",
    "    # select only data observations with cluster label == i\n",
    "    ds = df_norm[np.where(labels==i)]\n",
    "    # plot the data observations\n",
    "    plt.plot(ds[:,0],ds[:,1],'o')\n",
    "    # plot the centroids\n",
    "    lines = plt.plot(centroids[i,0],centroids[i,1],'kx')\n",
    "    # make the centroid x's bigger\n",
    "    plt.setp(lines,ms=15.0)\n",
    "    plt.setp(lines,mew=2.0)\n",
    "\n",
    "plt.show()"
   ]
  },
  {
   "cell_type": "code",
   "execution_count": null,
   "metadata": {
    "collapsed": true
   },
   "outputs": [],
   "source": [
    "#Add labels as a column to the dataframe\n",
    "df['labels'] = labels"
   ]
  },
  {
   "cell_type": "code",
   "execution_count": null,
   "metadata": {
    "collapsed": false
   },
   "outputs": [],
   "source": [
    "#Export the updated dataframe to a csv\n",
    "df.to_csv('test.csv')"
   ]
  },
  {
   "cell_type": "code",
   "execution_count": null,
   "metadata": {
    "collapsed": true
   },
   "outputs": [],
   "source": []
  },
  {
   "cell_type": "code",
   "execution_count": null,
   "metadata": {
    "collapsed": true
   },
   "outputs": [],
   "source": []
  },
  {
   "cell_type": "code",
   "execution_count": null,
   "metadata": {
    "collapsed": true
   },
   "outputs": [],
   "source": []
  },
  {
   "cell_type": "code",
   "execution_count": null,
   "metadata": {
    "collapsed": true
   },
   "outputs": [],
   "source": []
  },
  {
   "cell_type": "code",
   "execution_count": null,
   "metadata": {
    "collapsed": true
   },
   "outputs": [],
   "source": []
  },
  {
   "cell_type": "code",
   "execution_count": null,
   "metadata": {
    "collapsed": true
   },
   "outputs": [],
   "source": []
  },
  {
   "cell_type": "code",
   "execution_count": null,
   "metadata": {
    "collapsed": true
   },
   "outputs": [],
   "source": []
  },
  {
   "cell_type": "code",
   "execution_count": null,
   "metadata": {
    "collapsed": true
   },
   "outputs": [],
   "source": []
  },
  {
   "cell_type": "code",
   "execution_count": null,
   "metadata": {
    "collapsed": false
   },
   "outputs": [],
   "source": [
    "data = df[list(df.columns[3:5])]"
   ]
  },
  {
   "cell_type": "code",
   "execution_count": null,
   "metadata": {
    "collapsed": false
   },
   "outputs": [],
   "source": [
    "scaler = StandardScaler()\n",
    "data_norm = scaler.fit_transform(data)"
   ]
  },
  {
   "cell_type": "code",
   "execution_count": null,
   "metadata": {
    "collapsed": false
   },
   "outputs": [],
   "source": [
    "km = KMeans(n_clusters=5)\n",
    "km.fit(data_norm)"
   ]
  },
  {
   "cell_type": "code",
   "execution_count": null,
   "metadata": {
    "collapsed": false
   },
   "outputs": [],
   "source": [
    "centroids = km.cluster_centers_\n",
    "centroids"
   ]
  },
  {
   "cell_type": "code",
   "execution_count": null,
   "metadata": {
    "collapsed": false
   },
   "outputs": [],
   "source": [
    "labels = km.labels_\n",
    "labels"
   ]
  },
  {
   "cell_type": "code",
   "execution_count": null,
   "metadata": {
    "collapsed": false
   },
   "outputs": [],
   "source": [
    "# data = data.as_matrix()"
   ]
  },
  {
   "cell_type": "code",
   "execution_count": null,
   "metadata": {
    "collapsed": false
   },
   "outputs": [],
   "source": [
    "k = 5\n",
    "\n",
    "for i in range(k):\n",
    "    # select only data observations with cluster label == i\n",
    "    ds = data_norm[np.where(labels==i)]\n",
    "    # plot the data observations\n",
    "    plt.plot(ds[:,0],ds[:,1],'o')\n",
    "    # plot the centroids\n",
    "    lines = plt.plot(centroids[i,0],centroids[i,1],'kx')\n",
    "    # make the centroid x's bigger\n",
    "    plt.setp(lines,ms=15.0)\n",
    "    plt.setp(lines,mew=2.0)\n",
    "plt.show()"
   ]
  },
  {
   "cell_type": "code",
   "execution_count": null,
   "metadata": {
    "collapsed": false
   },
   "outputs": [],
   "source": [
    "from sklearn import cluster\n",
    "centroids,labels,inertia = cluster.k_means(numpyMatrix,n_clusters=k)"
   ]
  },
  {
   "cell_type": "code",
   "execution_count": null,
   "metadata": {
    "collapsed": false
   },
   "outputs": [],
   "source": [
    "print labels"
   ]
  },
  {
   "cell_type": "code",
   "execution_count": null,
   "metadata": {
    "collapsed": false
   },
   "outputs": [],
   "source": [
    "np.savetxt('colby_test.txt', labels) "
   ]
  },
  {
   "cell_type": "code",
   "execution_count": null,
   "metadata": {
    "collapsed": true
   },
   "outputs": [],
   "source": [
    "kdd_data = pd.read_csv('http://gadatascience.com/datasets/network_attacks/kddcup.data_10_percent', index_col=False)"
   ]
  },
  {
   "cell_type": "code",
   "execution_count": null,
   "metadata": {
    "collapsed": false
   },
   "outputs": [],
   "source": [
    "kdd_data.head(5)"
   ]
  },
  {
   "cell_type": "code",
   "execution_count": null,
   "metadata": {
    "collapsed": false
   },
   "outputs": [],
   "source": [
    "kdd_data.protocol_type.value_counts()"
   ]
  },
  {
   "cell_type": "code",
   "execution_count": null,
   "metadata": {
    "collapsed": false
   },
   "outputs": [],
   "source": [
    "from sklearn.feature_extraction import DictVectorizer\n",
    "\n",
    "# Turn categorical features into 1-hot encoded features\n",
    "categorical_features = kdd_data[['protocol_type', 'service', 'flag']]\n",
    "dv = DictVectorizer()\n",
    "cat_matrix = dv.fit_transform(categorical_features.T.to_dict().values())\n",
    "\n",
    "# Collect the other numerical features\n",
    "from scipy.sparse import hstack\n",
    "other_features = kdd_data[['src_bytes', 'dst_bytes', 'num_failed_logins', 'logged_in', 'num_compromised', 'root_shell', 'su_attempted', 'num_root', 'num_file_creations', 'num_shells', 'num_access_files', 'num_outbound_cmds']]\n",
    "data_matrix = hstack([cat_matrix, other_features])\n",
    "data_matrix"
   ]
  },
  {
   "cell_type": "code",
   "execution_count": null,
   "metadata": {
    "collapsed": false
   },
   "outputs": [],
   "source": [
    "from sklearn.preprocessing import scale\n",
    "data_matrix = scale(data_matrix.todense())"
   ]
  },
  {
   "cell_type": "code",
   "execution_count": null,
   "metadata": {
    "collapsed": false
   },
   "outputs": [],
   "source": [
    "from sklearn.cluster import KMeans\n",
    "\n",
    "clustering_model = KMeans(n_clusters = 25)\n",
    "clustering_model.fit(data_matrix)\n",
    "\n",
    "clusters = clustering_model.predict(data_matrix)\n",
    "\n",
    "clusters"
   ]
  },
  {
   "cell_type": "code",
   "execution_count": null,
   "metadata": {
    "collapsed": true
   },
   "outputs": [],
   "source": [
    "results = pd.DataFrame({ 'cluster' : clusters, 'class' : kdd_data['class']})\n",
    "cluster_counts = results.groupby('cluster')['class'].value_counts()\n",
    "for i in xrange(len(cluster_counts)):\n",
    "    print(\"Cluster \" ,i)\n",
    "    print(cluster_counts[i])\n",
    "    print()"
   ]
  },
  {
   "cell_type": "markdown",
   "metadata": {},
   "source": [
    "## Change of pace ##"
   ]
  },
  {
   "cell_type": "code",
   "execution_count": null,
   "metadata": {
    "collapsed": true
   },
   "outputs": [],
   "source": [
    "import pandas as pd"
   ]
  },
  {
   "cell_type": "code",
   "execution_count": null,
   "metadata": {
    "collapsed": false
   },
   "outputs": [],
   "source": [
    "# READ IN DATASET\n",
    "votes = pd.read_csv('/Users/colby.schrauth/Desktop/DataScience/114_congress.csv')\n",
    "votes.head(3)"
   ]
  },
  {
   "cell_type": "code",
   "execution_count": null,
   "metadata": {
    "collapsed": false
   },
   "outputs": [],
   "source": [
    "# PRINT THE DATASET SHAPE\n",
    "print votes.shape"
   ]
  },
  {
   "cell_type": "code",
   "execution_count": null,
   "metadata": {
    "collapsed": false
   },
   "outputs": [],
   "source": [
    "# PRINT THE UNIQUE VALUES AND THEIR ASSOCIATED FREQUENCY\n",
    "print (pd.value_counts(votes.iloc[:,3:].values.ravel()))"
   ]
  },
  {
   "cell_type": "code",
   "execution_count": null,
   "metadata": {
    "collapsed": true
   },
   "outputs": [],
   "source": [
    "# IMPORT KMEANS\n",
    "from sklearn.cluster import KMeans"
   ]
  },
  {
   "cell_type": "code",
   "execution_count": null,
   "metadata": {
    "collapsed": true
   },
   "outputs": [],
   "source": [
    "# CREATE A KMEANS MODEL W/ 2 CENTROIDS -- RANDOM_STATE HELPS ENSURE THE ALGORITHM RETURNS THE SAME RESULTS EACH TIME\n",
    "kmeans_model = KMeans(n_clusters = 2, random_state = 1).fit(votes.iloc[:,3:])"
   ]
  },
  {
   "cell_type": "code",
   "execution_count": null,
   "metadata": {
    "collapsed": false
   },
   "outputs": [],
   "source": [
    "# THESE ARE OUR FITTED LABELS FOR CLUSTERS -- THE FIRST CLUSTER HAS LABEL 0, AND THE SECOND HAS LABEL 1\n",
    "labels = kmeans_model.labels_"
   ]
  },
  {
   "cell_type": "code",
   "execution_count": null,
   "metadata": {
    "collapsed": false
   },
   "outputs": [],
   "source": [
    "# SEPARATE EVERYONE INTO PARTIES BASED ON VOTING HISTORY\n",
    "print (pd.crosstab(labels, votes[\"party\"]))"
   ]
  },
  {
   "cell_type": "markdown",
   "metadata": {
    "collapsed": true
   },
   "source": [
    "**APPENDIX**"
   ]
  },
  {
   "cell_type": "code",
   "execution_count": null,
   "metadata": {
    "collapsed": true
   },
   "outputs": [],
   "source": [
    "#Reshape for clustering with one feature input\n",
    "df_norm = np.reshape(df_norm, (len(df), 1))"
   ]
  }
 ],
 "metadata": {
  "kernelspec": {
   "display_name": "Python 2",
   "language": "python",
   "name": "python2"
  },
  "language_info": {
   "codemirror_mode": {
    "name": "ipython",
    "version": 2
   },
   "file_extension": ".py",
   "mimetype": "text/x-python",
   "name": "python",
   "nbconvert_exporter": "python",
   "pygments_lexer": "ipython2",
   "version": "2.7.11"
  }
 },
 "nbformat": 4,
 "nbformat_minor": 0
}
